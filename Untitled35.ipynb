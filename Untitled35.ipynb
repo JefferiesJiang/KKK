{
  "nbformat": 4,
  "nbformat_minor": 0,
  "metadata": {
    "colab": {
      "name": "Untitled35.ipynb",
      "provenance": [],
      "authorship_tag": "ABX9TyMQz79LUKbVfl3xUI2Am55e",
      "include_colab_link": true
    },
    "kernelspec": {
      "name": "python3",
      "display_name": "Python 3"
    }
  },
  "cells": [
    {
      "cell_type": "markdown",
      "metadata": {
        "id": "view-in-github",
        "colab_type": "text"
      },
      "source": [
        "<a href=\"https://colab.research.google.com/github/JefferiesJiang/KKK/blob/master/Untitled35.ipynb\" target=\"_parent\"><img src=\"https://colab.research.google.com/assets/colab-badge.svg\" alt=\"Open In Colab\"/></a>"
      ]
    },
    {
      "cell_type": "code",
      "metadata": {
        "id": "4GQeoA4wwd5p",
        "colab_type": "code",
        "outputId": "9c510814-5a97-4750-a99d-7fadcc5ef02a",
        "colab": {
          "base_uri": "https://localhost:8080/",
          "height": 34
        }
      },
      "source": [
        "def j(matrix):\n",
        "  sum1 = matrix[0] + matrix[4] + matrix[8]\n",
        "  sum2 = matrix[2] + matrix[4]+ matrix[6]\n",
        "  return sum1 - sum2\n",
        "j([1,2,3,\n",
        "   4,5,6,\n",
        "   7,8,9])\n",
        "\n",
        "def muitiply(a):\n",
        "  a = []\n",
        "  for i in range(0,len(a)):\n",
        "    for b in range(0,len(a)):\n",
        "     print(a.append(a[i]) and a.append(a[b]))\n",
        "print(muitiply([1,2,3]))\n",
        "\n",
        "\n",
        "\n"
      ],
      "execution_count": 0,
      "outputs": [
        {
          "output_type": "stream",
          "text": [
            "None\n"
          ],
          "name": "stdout"
        }
      ]
    }
  ]
}