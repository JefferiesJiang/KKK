{
  "nbformat": 4,
  "nbformat_minor": 0,
  "metadata": {
    "colab": {
      "name": "Untitled13.ipynb",
      "provenance": [],
      "authorship_tag": "ABX9TyMcvt1eWtEQ9SJu7bx0a2Cc",
      "include_colab_link": true
    },
    "kernelspec": {
      "name": "python3",
      "display_name": "Python 3"
    }
  },
  "cells": [
    {
      "cell_type": "markdown",
      "metadata": {
        "id": "view-in-github",
        "colab_type": "text"
      },
      "source": [
        "<a href=\"https://colab.research.google.com/github/JefferiesJiang/KKK/blob/master/Untitled13.ipynb\" target=\"_parent\"><img src=\"https://colab.research.google.com/assets/colab-badge.svg\" alt=\"Open In Colab\"/></a>"
      ]
    },
    {
      "cell_type": "code",
      "metadata": {
        "id": "8S9q7Gi2aAE2",
        "colab_type": "code",
        "colab": {}
      },
      "source": [
        "def isthereten(number):\n",
        "  spilt(number) = number2\n",
        "  stringwithoutwords = []\n",
        "  first = number2[0]\n",
        "  for i in number2:\n",
        "    if i != \"?\" and != i in i in range(0,9)\n",
        "     number2.remove(i) = number3\n",
        "     if i in number3 != \n",
        "    \n",
        "\n"
      ],
      "execution_count": 0,
      "outputs": []
    }
  ]
}