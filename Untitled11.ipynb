{
  "nbformat": 4,
  "nbformat_minor": 0,
  "metadata": {
    "colab": {
      "name": "Untitled11.ipynb",
      "provenance": [],
      "authorship_tag": "ABX9TyOjApasyIZXPPGpFCJLdVgE",
      "include_colab_link": true
    },
    "kernelspec": {
      "name": "python3",
      "display_name": "Python 3"
    }
  },
  "cells": [
    {
      "cell_type": "markdown",
      "metadata": {
        "id": "view-in-github",
        "colab_type": "text"
      },
      "source": [
        "<a href=\"https://colab.research.google.com/github/JefferiesJiang/KKK/blob/master/Untitled11.ipynb\" target=\"_parent\"><img src=\"https://colab.research.google.com/assets/colab-badge.svg\" alt=\"Open In Colab\"/></a>"
      ]
    },
    {
      "cell_type": "code",
      "metadata": {
        "id": "UmkZFeVjaLWW",
        "colab_type": "code",
        "outputId": "3154bbb9-98a6-40e6-b673-2872a0eeee59",
        "colab": {
          "base_uri": "https://localhost:8080/",
          "height": 89
        }
      },
      "source": [
        "%pip install urllib\n",
        "import requests\n",
        "import urllib\n",
        "objective = input(\"what is your objective\")\n",
        "material = input(\"materialkeyword\")\n",
        "howtokeyword = input(\"howtokeyword\")\n",
        "text = 'howtokeyword'\n",
        "text = urllib.parse.quote_plus(text)\n",
        "url = 'http://www.google.com/'+ text\n",
        "poflesson = requests.get(url)\n",
        "\n",
        "print(\"objective\" + \"of\" + \"lesson:\" + objective)\n",
        "print(\"material\" + \"of\" + \"lesson:\" + material)\n",
        "print(\"procedre\" + \"of\" + \"lesson:\" + str(poflesson))\n",
        "\n",
        "\n",
        "\n"
      ],
      "execution_count": 0,
      "outputs": [
        {
          "output_type": "stream",
          "text": [
            "\u001b[31mERROR: Could not find a version that satisfies the requirement urllib (from versions: none)\u001b[0m\n",
            "\u001b[31mERROR: No matching distribution found for urllib\u001b[0m\n"
          ],
          "name": "stdout"
        }
      ]
    }
  ]
}