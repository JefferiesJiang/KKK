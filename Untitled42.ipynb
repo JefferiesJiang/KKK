{
  "nbformat": 4,
  "nbformat_minor": 0,
  "metadata": {
    "colab": {
      "name": "Untitled42.ipynb",
      "provenance": [],
      "authorship_tag": "ABX9TyNwa3TAG6tLVhVfFO3cUrV5",
      "include_colab_link": true
    },
    "kernelspec": {
      "name": "python3",
      "display_name": "Python 3"
    }
  },
  "cells": [
    {
      "cell_type": "markdown",
      "metadata": {
        "id": "view-in-github",
        "colab_type": "text"
      },
      "source": [
        "<a href=\"https://colab.research.google.com/github/JefferiesJiang/KKK/blob/master/Untitled42.ipynb\" target=\"_parent\"><img src=\"https://colab.research.google.com/assets/colab-badge.svg\" alt=\"Open In Colab\"/></a>"
      ]
    },
    {
      "cell_type": "code",
      "metadata": {
        "id": "lpXQuXOu2hMR",
        "colab_type": "code",
        "colab": {
          "base_uri": "https://localhost:8080/",
          "height": 34
        },
        "outputId": "a8343b98-c1a3-4b20-b544-80544b461cdb"
      },
      "source": [
        "class Company:\n",
        "  def __init__(self,revenue,profit,assets):\n",
        "    self.revenue = revenue\n",
        "    self.profit = profit\n",
        "    self.assets = assets\n",
        "  def salestax(self):\n",
        "    return self.profit * 0.21\n",
        "Google = Company(1000,100787878787878,1000)\n",
        "Facebook = Company(11,6900000000,90)\n",
        "Dell = Company(1,2,3)\n",
        "Facebook.salestax()\n",
        "Dell.salestax()\n",
        "Apple = Company(2,3,3)\n",
        "Apple.salestax()\n",
        "# read bw\n",
        "#line \n",
        "\n"
      ],
      "execution_count": 18,
      "outputs": [
        {
          "output_type": "execute_result",
          "data": {
            "text/plain": [
              "0.63"
            ]
          },
          "metadata": {
            "tags": []
          },
          "execution_count": 18
        }
      ]
    }
  ]
}